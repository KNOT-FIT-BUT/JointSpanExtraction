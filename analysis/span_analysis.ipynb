{
 "cells": [
  {
   "cell_type": "code",
   "execution_count": 1,
   "metadata": {},
   "outputs": [],
   "source": [
    "%load_ext autoreload\n",
    "%autoreload 2\n",
    "import torch\n",
    "import math\n",
    "import os\n",
    "os.chdir(\"../\")\n",
    "\n",
    "from IPython.display import Markdown, display\n",
    "def printmd(string):\n",
    "    display(Markdown(string))\n",
    "    \n",
    "def colorize(string,color=\"red\"):\n",
    "     return f\"<span style=\\\"color:{color}\\\">{string}</span>\""
   ]
  },
  {
   "cell_type": "markdown",
   "metadata": {},
   "source": [
    "## Data for this script:"
   ]
  },
  {
   "cell_type": "code",
   "execution_count": 2,
   "metadata": {},
   "outputs": [],
   "source": [
    "INDEPENDENT_READER_MODEL = \".checkpoints/checkpoint_squad_transformers_bert-base-uncased_independent_EM_81.47_F1_88.80.pt.sd\"\n",
    "CONDITIONAL_READER_MODEL = \".saved/checkpoint_squad2_transformers_bert-base-uncased_conditional_<class 'src.scripts.trainers.LRMtrainer.QAFramework'>_EM_72.82_F1_75.86_L_0.00_2021-01-24_05:19_athena19.pt\"\n",
    "JOINT_READER_MODEL = \".checkpoints/checkpoint_squad_transformers_bert-base-uncased_joint_EM_81.49_F1_88.25.pt.sd\"\n",
    "COMPOUND_READER_MODEL = \".checkpoints/checkpoint_squad_transformers_bert-base-uncased_compound_EM_82.25_F1_88.77.pt.sd\""
   ]
  },
  {
   "cell_type": "code",
   "execution_count": 3,
   "metadata": {},
   "outputs": [],
   "source": [
    "import torch\n",
    "from transformers import BertTokenizer\n",
    "from src.scripts.trainers.LRMtrainer import QAFramework\n",
    "\n",
    "device=torch.device(f\"cuda:0\" if torch.cuda.is_available() else \"cpu\")\n",
    "tokenizer = BertTokenizer.from_pretrained(\"bert-base-uncased\", cache_dir=\".Transformers_cache\")\n",
    "\n",
    "def load_model(m):\n",
    "    model_dict=torch.load(m)\n",
    "    if type(model_dict) == dict:\n",
    "        model = QAFramework.create_model(model_dict[\"config\"], device, tokenizer)\n",
    "        model.load_state_dict(model_dict[\"state_dict\"])\n",
    "    else:\n",
    "        model = model_dict\n",
    "    return model.to(device)"
   ]
  },
  {
   "cell_type": "code",
   "execution_count": 4,
   "metadata": {},
   "outputs": [
    {
     "name": "stderr",
     "output_type": "stream",
     "text": [
      "Some weights of the model checkpoint at bert-base-uncased were not used when initializing BertForQuestionAnswering: ['cls.predictions.bias', 'cls.predictions.transform.dense.weight', 'cls.predictions.transform.dense.bias', 'cls.predictions.decoder.weight', 'cls.seq_relationship.weight', 'cls.seq_relationship.bias', 'cls.predictions.transform.LayerNorm.weight', 'cls.predictions.transform.LayerNorm.bias']\n",
      "- This IS expected if you are initializing BertForQuestionAnswering from the checkpoint of a model trained on another task or with another architecture (e.g. initializing a BertForSequenceClassification model from a BertForPretraining model).\n",
      "- This IS NOT expected if you are initializing BertForQuestionAnswering from the checkpoint of a model that you expect to be exactly identical (initializing a BertForSequenceClassification model from a BertForSequenceClassification model).\n",
      "Some weights of BertForQuestionAnswering were not initialized from the model checkpoint at bert-base-uncased and are newly initialized: ['qa_outputs.weight', 'qa_outputs.bias']\n",
      "You should probably TRAIN this model on a down-stream task to be able to use it for predictions and inference.\n"
     ]
    }
   ],
   "source": [
    "indep_reader_model = load_model(INDEPENDENT_READER_MODEL)\n",
    "joint_reader_model =load_model(JOINT_READER_MODEL)\n",
    "compound_reader_model = load_model(COMPOUND_READER_MODEL)\n",
    "\n",
    "\n",
    "indep_reader_model = indep_reader_model.eval()\n",
    "joint_reader_model = joint_reader_model.eval()\n",
    "compound_reader_model = compound_reader_model.eval()"
   ]
  },
  {
   "cell_type": "code",
   "execution_count": 5,
   "metadata": {},
   "outputs": [
    {
     "name": "stderr",
     "output_type": "stream",
     "text": []
    }
   ],
   "source": [
    "conditional_reader_model=load_model(CONDITIONAL_READER_MODEL)\n",
    "# conditional model has hardcoded validation batch\n",
    "conditional_reader_model.bs = 1\n",
    "BEAM_SIZE=10\n",
    "conditional_reader_model.topk=BEAM_SIZE\n",
    "conditional_reader_model.top_k_combined = torch.empty([1, BEAM_SIZE, 384, 768 * 2])\n",
    "conditional_reader_model = conditional_reader_model.eval()"
   ]
  },
  {
   "cell_type": "markdown",
   "metadata": {},
   "source": [
    "# Playing around with the models"
   ]
  },
  {
   "cell_type": "code",
   "execution_count": 6,
   "metadata": {},
   "outputs": [
    {
     "name": "stdout",
     "output_type": "stream",
     "text": [
      "Val data loaded\n"
     ]
    }
   ],
   "source": [
    "from src.datasets.SQUAD_dataset_transformers import SquadDataset_transformers\n",
    "from src.datasets.utility import VALIDATION_F_SQUAD,TRAIN_F_SQUAD\n",
    "\n",
    "\n",
    "fields = SquadDataset_transformers.prepare_fields(pad_t=tokenizer.pad_token_id)\n",
    "val_data = SquadDataset_transformers(VALIDATION_F_SQUAD, tokenizer, fields, transformer='bert-base-uncased',is_training=False)\n",
    "print(\"Val data loaded\")"
   ]
  },
  {
   "cell_type": "markdown",
   "metadata": {},
   "source": [
    "interesting NQ example id: \"988bb3170e3f43108217ba526efaf7ed \""
   ]
  },
  {
   "cell_type": "code",
   "execution_count": 7,
   "metadata": {},
   "outputs": [
    {
     "data": {
      "text/plain": [
       "[('id', <torchtext.data.field.RawField at 0x7f69c1ec3630>),\n",
       " ('input', <torchtext.data.field.Field at 0x7f69c1e0a9e8>),\n",
       " ('segment_ids', <torchtext.data.field.Field at 0x7f69c1f0c550>),\n",
       " ('input_padding', <torchtext.data.field.Field at 0x7f69c1f0c518>),\n",
       " ('a_start', <torchtext.data.field.Field at 0x7f69c1f0c588>),\n",
       " ('a_end', <torchtext.data.field.Field at 0x7f69c1f0c710>),\n",
       " ('is_max_context', <torchtext.data.field.RawField at 0x7f69c1f0c780>),\n",
       " ('paragraph_mask', <torchtext.data.field.Field at 0x7f69c1f0c7b8>),\n",
       " ('example_idx', <torchtext.data.field.RawField at 0x7f69c1f0c630>),\n",
       " ('token_to_orig_map', <torchtext.data.field.RawField at 0x7f69c1f0c6a0>)]"
      ]
     },
     "execution_count": 7,
     "metadata": {},
     "output_type": "execute_result"
    }
   ],
   "source": [
    "fields"
   ]
  },
  {
   "cell_type": "code",
   "execution_count": 8,
   "metadata": {},
   "outputs": [
    {
     "data": {
      "text/markdown": [
       "<span style=\"color:red\">[CLS] who was the super bowl 50 mvp? [SEP] the broncos took an early lead in super bowl 50 and never trailed. newton was limited by denver's defense, which sacked him seven times and forced him into three turnovers, including a fumble which they recovered for a touchdown. denver linebacker von miller was named super bowl mvp, recording five solo tackles, 2½ sacks, and two forced fumbles. [SEP] [PAD] [PAD] [PAD] [PAD] [PAD] [PAD] [PAD] [PAD] [PAD] [PAD] [PAD] [PAD] [PAD] [PAD] [PAD] [PAD] [PAD] [PAD] [PAD] [PAD] [PAD] [PAD] [PAD] [PAD] [PAD] [PAD] [PAD] [PAD] [PAD] [PAD] [PAD] [PAD] [PAD] [PAD] [PAD] [PAD] [PAD] [PAD] [PAD] [PAD] [PAD] [PAD] [PAD] [PAD] [PAD] [PAD] [PAD] [PAD] [PAD] [PAD] [PAD] [PAD] [PAD] [PAD] [PAD] [PAD] [PAD] [PAD] [PAD] [PAD] [PAD] [PAD] [PAD] [PAD] [PAD] [PAD] [PAD] [PAD] [PAD] [PAD] [PAD] [PAD] [PAD] [PAD] [PAD] [PAD] [PAD] [PAD] [PAD] [PAD] [PAD] [PAD] [PAD] [PAD] [PAD] [PAD] [PAD] [PAD] [PAD] [PAD] [PAD] [PAD] [PAD] [PAD] [PAD] [PAD] [PAD] [PAD] [PAD] [PAD] [PAD] [PAD] [PAD] [PAD] [PAD] [PAD] [PAD] [PAD] [PAD] [PAD] [PAD] [PAD] [PAD] [PAD] [PAD] [PAD] [PAD] [PAD] [PAD] [PAD] [PAD] [PAD] [PAD] [PAD] [PAD] [PAD] [PAD] [PAD] [PAD] [PAD] [PAD] [PAD] [PAD] [PAD] [PAD] [PAD] [PAD] [PAD] [PAD] [PAD] [PAD] [PAD] [PAD] [PAD] [PAD] [PAD] [PAD] [PAD] [PAD] [PAD] [PAD] [PAD] [PAD] [PAD] [PAD] [PAD] [PAD] [PAD] [PAD] [PAD] [PAD] [PAD] [PAD] [PAD] [PAD] [PAD] [PAD] [PAD] [PAD] [PAD] [PAD] [PAD] [PAD] [PAD] [PAD] [PAD] [PAD] [PAD] [PAD] [PAD] [PAD] [PAD] [PAD] [PAD] [PAD] [PAD] [PAD] [PAD] [PAD] [PAD] [PAD] [PAD] [PAD] [PAD] [PAD] [PAD] [PAD] [PAD] [PAD] [PAD] [PAD] [PAD] [PAD] [PAD] [PAD] [PAD] [PAD] [PAD] [PAD] [PAD] [PAD] [PAD] [PAD] [PAD] [PAD] [PAD] [PAD] [PAD] [PAD] [PAD] [PAD] [PAD] [PAD] [PAD] [PAD] [PAD] [PAD] [PAD] [PAD] [PAD] [PAD] [PAD] [PAD] [PAD] [PAD] [PAD] [PAD] [PAD] [PAD] [PAD] [PAD] [PAD] [PAD] [PAD] [PAD] [PAD] [PAD] [PAD] [PAD] [PAD] [PAD] [PAD] [PAD] [PAD] [PAD] [PAD] [PAD] [PAD] [PAD] [PAD] [PAD] [PAD] [PAD] [PAD] [PAD] [PAD] [PAD] [PAD] [PAD] [PAD] [PAD] [PAD] [PAD] [PAD] [PAD] [PAD] [PAD] [PAD] [PAD] [PAD] [PAD] [PAD] [PAD] [PAD] [PAD] [PAD] [PAD] [PAD] [PAD] [PAD] [PAD] [PAD] [PAD] [PAD] [PAD] [PAD] [PAD] [PAD] [PAD] [PAD] [PAD] [PAD]</span>"
      ],
      "text/plain": [
       "<IPython.core.display.Markdown object>"
      ]
     },
     "metadata": {},
     "output_type": "display_data"
    }
   ],
   "source": [
    "i = 55\n",
    "printmd(colorize(tokenizer.decode(val_data.examples[i].input),color=\"red\"))"
   ]
  },
  {
   "cell_type": "code",
   "execution_count": 9,
   "metadata": {},
   "outputs": [],
   "source": [
    "from src.models.utils.modelparts import SpanPredictionModule\n",
    "hacks = {\n",
    "            \"max_answer_length\": 30\n",
    "        }\n",
    "def get_span(example,ans):\n",
    "    return tokenizer.decode(example.input[ans[0]:ans[1]+1])"
   ]
  },
  {
   "cell_type": "code",
   "execution_count": 10,
   "metadata": {},
   "outputs": [],
   "source": [
    "import torch.nn.functional as F\n",
    "def get_topk_answers(model, example, K=20, device=torch.device(\"cpu\")):\n",
    "    model = model.to(device)\n",
    "    inp = torch.LongTensor(example.input).unsqueeze(0).to(device)\n",
    "    segment_ids = torch.LongTensor(example.segment_ids).unsqueeze(0).to(device)\n",
    "    input_padding = torch.LongTensor(example.input_padding).unsqueeze(0).to(device)\n",
    "    \n",
    "\n",
    "\n",
    "    logprobs_S, logprobs_E = model(inp, token_type_ids=segment_ids,  attention_mask=input_padding)\n",
    "    mask = ~segment_ids.bool()\n",
    "    logprobs_S.masked_fill_(mask, -math.inf)\n",
    "    logprobs_E.masked_fill_(mask, -math.inf)\n",
    "    \n",
    "    sorted_span_scores, sorted_span_positions = SpanPredictionModule.decode_topN_with_hacks(\n",
    "                    logprobs_S,\n",
    "                    logprobs_E,\n",
    "                    score=\"logprobs\",\n",
    "                    N=10_000,\n",
    "                    has_sentinel=True, hacks=hacks)\n",
    "    sorted_span_positions = (sorted_span_positions[0][:,:K],sorted_span_positions[1][:,:K])\n",
    "    sorted_span_probs = F.softmax(sorted_span_scores,-1)[:,:K]\n",
    "    confidences = sorted_span_probs.tolist()[0]\n",
    "    answers = []\n",
    "    # we assume only batch size 1 in this example, by picking 0th index\n",
    "    for position in zip(sorted_span_positions[0].tolist()[0], sorted_span_positions[1].tolist()[0]):\n",
    "        answers.append(get_span(example, position))\n",
    "    return answers, confidences"
   ]
  },
  {
   "cell_type": "code",
   "execution_count": 11,
   "metadata": {},
   "outputs": [],
   "source": [
    "def get_topk_answers_joint(model, example, K=20,device=torch.device(\"cpu\")):\n",
    "    inp = torch.LongTensor(example.input).unsqueeze(0).to(device)\n",
    "    segment_ids = torch.LongTensor(example.segment_ids).unsqueeze(0).to(device)\n",
    "    input_padding = torch.LongTensor(example.input_padding).unsqueeze(0).to(device)\n",
    "    model = model.to(device)\n",
    "    \n",
    "    outputs= model(inp, token_type_ids=segment_ids,  attention_mask=input_padding)\n",
    "    if len(outputs) == 3:\n",
    "        logprobs_S, logprobs_E, logprobs_J = outputs\n",
    "    else:\n",
    "        logprobs_J = outputs\n",
    "    \n",
    "    sorted_span_scores, sorted_span_positions = SpanPredictionModule.decode_topN_joint_wth_hacks(logprobs_J,\n",
    "                    score=\"logprobs\",\n",
    "                    N=10_000,\n",
    "                    has_sentinel=True, hacks=hacks)\n",
    "    sorted_span_positions = (sorted_span_positions[0][:,:K],sorted_span_positions[1][:,:K])\n",
    "    sorted_span_probs = F.softmax(sorted_span_scores,-1)[:,:K]\n",
    "    confidences = sorted_span_probs.tolist()[0]\n",
    "    answers = []\n",
    "    # we assume only batch size 1 in this example, by picking 0th index\n",
    "    for position in zip(sorted_span_positions[0].tolist()[0], sorted_span_positions[1].tolist()[0]):\n",
    "        answers.append(get_span(example, position))\n",
    "    return answers, confidences"
   ]
  },
  {
   "cell_type": "code",
   "execution_count": 12,
   "metadata": {},
   "outputs": [],
   "source": [
    "def get_topk_answers_conditional(model, example, K=20, device=torch.device(\"cpu\")):\n",
    "    inp = torch.LongTensor(example.input).unsqueeze(0).to(device)\n",
    "    segment_ids = torch.LongTensor(example.segment_ids).unsqueeze(0).to(device)\n",
    "    input_padding = torch.LongTensor(example.input_padding).unsqueeze(0).to(device)\n",
    "    model = model.to(device)\n",
    "\n",
    "    start_indexes, end_indexes, best_span_scores, logprobs_S, logprobs_E0, logprobs_Emax = model(\n",
    "        inp,\n",
    "        token_type_ids=segment_ids,\n",
    "        attention_mask=input_padding)\n",
    "    max_len = 30\n",
    "    best_scores_f = []\n",
    "    start_indexes_f = []\n",
    "    end_indexes_f = []\n",
    "    for sib, eib, ssb in zip(start_indexes, end_indexes, best_span_scores):\n",
    "        scores_l = []\n",
    "        end_l = []\n",
    "        lens = []\n",
    "        start_l = []\n",
    "        for si, ei, ss in zip(sib, eib, ssb):\n",
    "            lens.append(ei - si)\n",
    "            if ei - si <= max_len and ei >= si:\n",
    "                scores_l.append(ss)\n",
    "                end_l.append(ei)\n",
    "                start_l.append(si)\n",
    "        best_scores_f.append(scores_l)\n",
    "        start_indexes_f.append(start_l)\n",
    "        end_indexes_f.append(end_l)\n",
    "    # if logprobs_S.shape[0]!=logprobs_E.shape[0]:\n",
    "    padded_S = torch.zeros(logprobs_E0.shape)\n",
    "    padded_S[:logprobs_S.shape[0], :] = logprobs_S\n",
    "    logprobs_S = padded_S\n",
    "\n",
    "    confidences = best_scores_f[0]\n",
    "    answers = []\n",
    "    # we assume only batch size 1 in this example, by picking 0th index\n",
    "    for position in zip(start_indexes_f[0], end_indexes_f[0]):\n",
    "        answers.append(get_span(example, position))\n",
    "    return answers, confidences"
   ]
  },
  {
   "cell_type": "code",
   "execution_count": 13,
   "metadata": {},
   "outputs": [
    {
     "data": {
      "text/markdown": [
       "<span style=\"font-size:larger;\">INDEPENDENT</span>"
      ],
      "text/plain": [
       "<IPython.core.display.Markdown object>"
      ]
     },
     "metadata": {},
     "output_type": "display_data"
    },
    {
     "data": {
      "text/markdown": [
       "<span style=\"color:red\">who was the panthers head coach for the 2015 season?</span>"
      ],
      "text/plain": [
       "<IPython.core.display.Markdown object>"
      ]
     },
     "metadata": {},
     "output_type": "display_data"
    },
    {
     "data": {
      "text/markdown": [
       "<span style=\"color:blue\">with rivera having been a linebacker with the chicago bears in super bowl xx, and kubiak replacing elway at the end of the broncos'defeats in super bowls xxi and xxiv, this will be the first super bowl in which both head coaches played in the game themselves.</span>"
      ],
      "text/plain": [
       "<IPython.core.display.Markdown object>"
      ]
     },
     "metadata": {},
     "output_type": "display_data"
    },
    {
     "data": {
      "text/markdown": [
       "<span style=\"color:green\">['Rivera', 'Rivera', 'Rivera']</span>"
      ],
      "text/plain": [
       "<IPython.core.display.Markdown object>"
      ]
     },
     "metadata": {},
     "output_type": "display_data"
    },
    {
     "name": "stdout",
     "output_type": "stream",
     "text": [
      "0. confidence:0.379399 length:83 content:\"rivera having been a linebacker with the chicago bears in super bowl xx, and kubiak\".\n",
      "1. confidence:0.282648 length:6 content:\"rivera\".\n",
      "2. confidence:0.202606 length:6 content:\"kubiak\".\n",
      "3. confidence:0.070172 length:99 content:\"rivera having been a linebacker with the chicago bears in super bowl xx, and kubiak replacing elway\".\n",
      "4. confidence:0.037473 length:22 content:\"kubiak replacing elway\".\n",
      "5. confidence:0.003705 length:5 content:\"elway\".\n",
      "6. confidence:0.002493 length:42 content:\"chicago bears in super bowl xx, and kubiak\".\n",
      "7. confidence:0.001730 length:3 content:\"##k\".\n",
      "8. confidence:0.001586 length:54 content:\"rivera having been a linebacker with the chicago bears\".\n",
      "9. confidence:0.001440 length:72 content:\"rivera having been a linebacker with the chicago bears in super bowl xx,\".\n",
      "10. confidence:0.001270 length:25 content:\"super bowl xx, and kubiak\".\n",
      "11. confidence:0.001183 length:71 content:\"rivera having been a linebacker with the chicago bears in super bowl xx\".\n",
      "12. confidence:0.000681 length:125 content:\"rivera having been a linebacker with the chicago bears in super bowl xx, and kubiak replacing elway at the end of the broncos\".\n",
      "13. confidence:0.000670 length:119 content:\"kubiak replacing elway at the end of the broncos'defeats in super bowls xxi and xxiv, this will be the first super bowl\".\n",
      "14. confidence:0.000668 length:88 content:\"with rivera having been a linebacker with the chicago bears in super bowl xx, and kubiak\".\n",
      "15. confidence:0.000578 length:79 content:\"rivera having been a linebacker with the chicago bears in super bowl xx, and ku\".\n",
      "16. confidence:0.000540 length:84 content:\"kubiak replacing elway at the end of the broncos'defeats in super bowls xxi and xxiv\".\n",
      "17. confidence:0.000498 length:11 content:\"with rivera\".\n",
      "18. confidence:0.000461 length:58 content:\"chicago bears in super bowl xx, and kubiak replacing elway\".\n",
      "19. confidence:0.000364 length:48 content:\"kubiak replacing elway at the end of the broncos\".\n",
      "----------------------------------------------------------------------\n"
     ]
    }
   ],
   "source": [
    "picked_id = \"56d709ef0d65d21400198306\" # Rivera example\n",
    "#picked_id ='56bebb293aeaaa14008c9305'\n",
    "# picked_id = \"57060cc352bb891400689811\"\n",
    "# picked_id = '56f80e1daef2371900625d8d'\n",
    "# # picked_id = '57263ea0271a42140099d7c3'\n",
    "# picked_id = \"57332b66d058e614000b5758\"\n",
    "# picked_id = \"56bec38b3aeaaa14008c9398\"\n",
    "# picked_id = \"5725dd1689a1e219009abfe3\"\n",
    "# picked_id = \"5729f0db6aef051400155127\"\n",
    "\n",
    "# for NQ\n",
    "#picked_id=\"988bb3170e3f43108217ba526efaf7ed\"\n",
    "\n",
    "\n",
    "for i in range(len(val_data.examples)):\n",
    "    if val_data.problem_examples[val_data.examples[i].example_idx].qas_id == picked_id:\n",
    "        break\n",
    "        \n",
    "\n",
    "    \n",
    "printmd(\"<span style=\\\"font-size:larger;\\\">INDEPENDENT</span>\")\n",
    "printmd(colorize(tokenizer.decode(val_data.examples[i].input[:val_data.examples[i].input.index(tokenizer.sep_token_id)], skip_special_tokens=True),color=\"red\"))\n",
    "printmd(colorize(tokenizer.decode(val_data.examples[i].input[val_data.examples[i].input.index(tokenizer.sep_token_id):], skip_special_tokens=True),color=\"blue\"))\n",
    "printmd(colorize(\n",
    "    [a['text'] for a in val_data.problem_examples[val_data.examples[i].example_idx].answers]\n",
    "    ,color=\"green\"))\n",
    "\n",
    "answers, confidences = get_topk_answers(indep_reader_model,val_data.examples[i])\n",
    "for i, (answer, confidence) in enumerate(zip(answers, confidences)):\n",
    "   print(f\"{i}. confidence:{confidence:.6f} length:{len(answer)} content:\\\"{answer}\\\".\")\n",
    "print(\"----------------------------------------------------------------------\")"
   ]
  },
  {
   "cell_type": "code",
   "execution_count": 14,
   "metadata": {},
   "outputs": [
    {
     "data": {
      "text/markdown": [
       "<span style=\"font-size:larger;\">JOINT</span>"
      ],
      "text/plain": [
       "<IPython.core.display.Markdown object>"
      ]
     },
     "metadata": {},
     "output_type": "display_data"
    },
    {
     "data": {
      "text/markdown": [
       "<span style=\"color:red\">who was the panthers head coach for the 2015 season?</span>"
      ],
      "text/plain": [
       "<IPython.core.display.Markdown object>"
      ]
     },
     "metadata": {},
     "output_type": "display_data"
    },
    {
     "data": {
      "text/markdown": [
       "<span style=\"color:blue\">with rivera having been a linebacker with the chicago bears in super bowl xx, and kubiak replacing elway at the end of the broncos'defeats in super bowls xxi and xxiv, this will be the first super bowl in which both head coaches played in the game themselves.</span>"
      ],
      "text/plain": [
       "<IPython.core.display.Markdown object>"
      ]
     },
     "metadata": {},
     "output_type": "display_data"
    },
    {
     "data": {
      "text/markdown": [
       "<span style=\"color:green\">['Rivera', 'Rivera', 'Rivera']</span>"
      ],
      "text/plain": [
       "<IPython.core.display.Markdown object>"
      ]
     },
     "metadata": {},
     "output_type": "display_data"
    },
    {
     "name": "stdout",
     "output_type": "stream",
     "text": [
      "0. confidence:0.487464 length:6 content:\"kubiak\".\n",
      "1. confidence:0.276969 length:22 content:\"kubiak replacing elway\".\n",
      "2. confidence:0.127231 length:6 content:\"rivera\".\n",
      "3. confidence:0.062721 length:5 content:\"elway\".\n",
      "4. confidence:0.006415 length:13 content:\"chicago bears\".\n",
      "5. confidence:0.006251 length:83 content:\"rivera having been a linebacker with the chicago bears in super bowl xx, and kubiak\".\n",
      "6. confidence:0.003033 length:54 content:\"rivera having been a linebacker with the chicago bears\".\n",
      "7. confidence:0.002495 length:99 content:\"rivera having been a linebacker with the chicago bears in super bowl xx, and kubiak replacing elway\".\n",
      "8. confidence:0.001980 length:30 content:\"chicago bears in super bowl xx\".\n",
      "9. confidence:0.001926 length:48 content:\"kubiak replacing elway at the end of the broncos\".\n",
      "10. confidence:0.001784 length:84 content:\"kubiak replacing elway at the end of the broncos'defeats in super bowls xxi and xxiv\".\n",
      "11. confidence:0.001714 length:75 content:\"kubiak replacing elway at the end of the broncos'defeats in super bowls xxi\".\n",
      "12. confidence:0.001273 length:13 content:\"super bowl xx\".\n",
      "13. confidence:0.001245 length:7 content:\"broncos\".\n",
      "14. confidence:0.001138 length:5 content:\"[CLS]\".\n",
      "15. confidence:0.001055 length:31 content:\"chicago bears in super bowl xx,\".\n",
      "16. confidence:0.000891 length:72 content:\"rivera having been a linebacker with the chicago bears in super bowl xx,\".\n",
      "17. confidence:0.000888 length:2 content:\"ku\".\n",
      "18. confidence:0.000887 length:3 content:\"##k\".\n",
      "19. confidence:0.000656 length:58 content:\"elway at the end of the broncos'defeats in super bowls xxi\".\n",
      "----------------------------------------------------------------------\n"
     ]
    }
   ],
   "source": [
    "for i in range(len(val_data.examples)):\n",
    "    if val_data.problem_examples[val_data.examples[i].example_idx].qas_id == picked_id:\n",
    "        break\n",
    "        \n",
    "\n",
    "printmd(\"<span style=\\\"font-size:larger;\\\">JOINT</span>\")\n",
    "printmd(colorize(tokenizer.decode(val_data.examples[i].input[:val_data.examples[i].input.index(tokenizer.sep_token_id)], skip_special_tokens=True),color=\"red\"))\n",
    "printmd(colorize(tokenizer.decode(val_data.examples[i].input[val_data.examples[i].input.index(tokenizer.sep_token_id):], skip_special_tokens=True),color=\"blue\"))\n",
    "printmd(colorize(\n",
    "    [a['text'] for a in val_data.problem_examples[val_data.examples[i].example_idx].answers]\n",
    "    ,color=\"green\"))\n",
    "answers, confidences = get_topk_answers_joint(joint_reader_model,val_data.examples[i])\n",
    "for i, (answer, confidence) in enumerate(zip(answers, confidences)):\n",
    "    print(f\"{i}. confidence:{confidence:.6f} length:{len(answer)} content:\\\"{answer}\\\".\")\n",
    "print(\"----------------------------------------------------------------------\")"
   ]
  },
  {
   "cell_type": "code",
   "execution_count": 15,
   "metadata": {},
   "outputs": [
    {
     "data": {
      "text/markdown": [
       "<span style=\"font-size:larger;\">COMPOUND</span>"
      ],
      "text/plain": [
       "<IPython.core.display.Markdown object>"
      ]
     },
     "metadata": {},
     "output_type": "display_data"
    },
    {
     "data": {
      "text/markdown": [
       "<span style=\"color:red\">who was the panthers head coach for the 2015 season?</span>"
      ],
      "text/plain": [
       "<IPython.core.display.Markdown object>"
      ]
     },
     "metadata": {},
     "output_type": "display_data"
    },
    {
     "data": {
      "text/markdown": [
       "<span style=\"color:blue\">with rivera having been a linebacker with the chicago bears in super bowl xx, and kubiak replacing elway at the end of the broncos'defeats in super bowls xxi and xxiv, this will be the first super bowl in which both head coaches played in the game themselves.</span>"
      ],
      "text/plain": [
       "<IPython.core.display.Markdown object>"
      ]
     },
     "metadata": {},
     "output_type": "display_data"
    },
    {
     "data": {
      "text/markdown": [
       "<span style=\"color:green\">['Rivera', 'Rivera', 'Rivera']</span>"
      ],
      "text/plain": [
       "<IPython.core.display.Markdown object>"
      ]
     },
     "metadata": {},
     "output_type": "display_data"
    },
    {
     "name": "stdout",
     "output_type": "stream",
     "text": [
      "0. confidence:0.359451 length:6 content:\"kubiak\".\n",
      "1. confidence:0.332965 length:6 content:\"rivera\".\n",
      "2. confidence:0.190620 length:22 content:\"kubiak replacing elway\".\n",
      "3. confidence:0.033865 length:5 content:\"elway\".\n",
      "4. confidence:0.014535 length:13 content:\"chicago bears\".\n",
      "5. confidence:0.011419 length:54 content:\"rivera having been a linebacker with the chicago bears\".\n",
      "6. confidence:0.005700 length:83 content:\"rivera having been a linebacker with the chicago bears in super bowl xx, and kubiak\".\n",
      "7. confidence:0.005299 length:30 content:\"chicago bears in super bowl xx\".\n",
      "8. confidence:0.003992 length:71 content:\"rivera having been a linebacker with the chicago bears in super bowl xx\".\n",
      "9. confidence:0.003616 length:42 content:\"chicago bears in super bowl xx, and kubiak\".\n",
      "10. confidence:0.002995 length:99 content:\"rivera having been a linebacker with the chicago bears in super bowl xx, and kubiak replacing elway\".\n",
      "11. confidence:0.002768 length:31 content:\"chicago bears in super bowl xx,\".\n",
      "12. confidence:0.002641 length:58 content:\"chicago bears in super bowl xx, and kubiak replacing elway\".\n",
      "13. confidence:0.002556 length:2 content:\"ku\".\n",
      "14. confidence:0.001988 length:3 content:\"##k\".\n",
      "15. confidence:0.001711 length:13 content:\"super bowl xx\".\n",
      "16. confidence:0.001663 length:72 content:\"rivera having been a linebacker with the chicago bears in super bowl xx,\".\n",
      "17. confidence:0.001167 length:48 content:\"kubiak replacing elway at the end of the broncos\".\n",
      "18. confidence:0.001135 length:19 content:\"##k replacing elway\".\n",
      "19. confidence:0.001107 length:31 content:\"rivera having been a linebacker\".\n",
      "----------------------------------------------------------------------\n"
     ]
    }
   ],
   "source": [
    "for i in range(len(val_data.examples)):\n",
    "    if val_data.problem_examples[val_data.examples[i].example_idx].qas_id == picked_id:\n",
    "        break\n",
    "        \n",
    "\n",
    "printmd(\"<span style=\\\"font-size:larger;\\\">COMPOUND</span>\")\n",
    "printmd(colorize(tokenizer.decode(val_data.examples[i].input[:val_data.examples[i].input.index(tokenizer.sep_token_id)], skip_special_tokens=True),color=\"red\"))\n",
    "printmd(colorize(tokenizer.decode(val_data.examples[i].input[val_data.examples[i].input.index(tokenizer.sep_token_id):], skip_special_tokens=True),color=\"blue\"))\n",
    "printmd(colorize(\n",
    "    [a['text'] for a in val_data.problem_examples[val_data.examples[i].example_idx].answers]\n",
    "    ,color=\"green\"))\n",
    "answers, confidences = get_topk_answers_joint(compound_reader_model,val_data.examples[i])\n",
    "for i, (answer, confidence) in enumerate(zip(answers, confidences)):\n",
    "    print(f\"{i}. confidence:{confidence:.6f} length:{len(answer)} content:\\\"{answer}\\\".\")\n",
    "print(\"----------------------------------------------------------------------\")"
   ]
  },
  {
   "cell_type": "code",
   "execution_count": 16,
   "metadata": {
    "scrolled": false
   },
   "outputs": [
    {
     "data": {
      "text/markdown": [
       "<span style=\"font-size:larger;\">CONDITIONAL</span>"
      ],
      "text/plain": [
       "<IPython.core.display.Markdown object>"
      ]
     },
     "metadata": {},
     "output_type": "display_data"
    },
    {
     "data": {
      "text/markdown": [
       "<span style=\"color:red\">who was the panthers head coach for the 2015 season?</span>"
      ],
      "text/plain": [
       "<IPython.core.display.Markdown object>"
      ]
     },
     "metadata": {},
     "output_type": "display_data"
    },
    {
     "data": {
      "text/markdown": [
       "<span style=\"color:blue\">with rivera having been a linebacker with the chicago bears in super bowl xx, and kubiak replacing elway at the end of the broncos'defeats in super bowls xxi and xxiv, this will be the first super bowl in which both head coaches played in the game themselves.</span>"
      ],
      "text/plain": [
       "<IPython.core.display.Markdown object>"
      ]
     },
     "metadata": {},
     "output_type": "display_data"
    },
    {
     "data": {
      "text/markdown": [
       "<span style=\"color:green\">['Rivera', 'Rivera', 'Rivera']</span>"
      ],
      "text/plain": [
       "<IPython.core.display.Markdown object>"
      ]
     },
     "metadata": {},
     "output_type": "display_data"
    },
    {
     "name": "stdout",
     "output_type": "stream",
     "text": [
      "0. confidence:0.161865 length:6 content:\"rivera\".\n",
      "1. confidence:0.161865 length:125 content:\"rivera having been a linebacker with the chicago bears in super bowl xx, and kubiak replacing elway at the end of the broncos\".\n",
      "2. confidence:0.161865 length:99 content:\"rivera having been a linebacker with the chicago bears in super bowl xx, and kubiak replacing elway\".\n",
      "3. confidence:0.161865 length:83 content:\"rivera having been a linebacker with the chicago bears in super bowl xx, and kubiak\".\n",
      "4. confidence:0.161865 length:54 content:\"rivera having been a linebacker with the chicago bears\".\n",
      "5. confidence:0.161865 length:79 content:\"rivera having been a linebacker with the chicago bears in super bowl xx, and ku\".\n",
      "6. confidence:0.161865 length:96 content:\"rivera having been a linebacker with the chicago bears in super bowl xx, and kubiak replacing el\".\n",
      "7. confidence:0.092605 length:5 content:\"elway\".\n",
      "8. confidence:0.092605 length:67 content:\"elway at the end of the broncos'defeats in super bowls xxi and xxiv\".\n",
      "9. confidence:0.092605 length:58 content:\"elway at the end of the broncos'defeats in super bowls xxi\".\n",
      "10. confidence:0.092605 length:31 content:\"elway at the end of the broncos\".\n",
      "11. confidence:0.092605 length:68 content:\"elway at the end of the broncos'defeats in super bowls xxi and xxiv,\".\n",
      "12. confidence:0.092605 length:2 content:\"el\".\n",
      "13. confidence:0.066152 length:13 content:\"chicago bears\".\n",
      "14. confidence:0.066152 length:84 content:\"chicago bears in super bowl xx, and kubiak replacing elway at the end of the broncos\".\n",
      "15. confidence:0.066152 length:30 content:\"chicago bears in super bowl xx\".\n",
      "16. confidence:0.066152 length:7 content:\"chicago\".\n",
      "17. confidence:0.057387 length:7 content:\"broncos\".\n",
      "18. confidence:0.057387 length:43 content:\"broncos'defeats in super bowls xxi and xxiv\".\n",
      "19. confidence:0.057387 length:136 content:\"broncos'defeats in super bowls xxi and xxiv, this will be the first super bowl in which both head coaches played in the game themselves.\".\n",
      "----------------------------------------------------------------------\n"
     ]
    }
   ],
   "source": [
    "for i in range(len(val_data.examples)):\n",
    "    if val_data.problem_examples[val_data.examples[i].example_idx].qas_id == picked_id:\n",
    "        break\n",
    "        \n",
    "\n",
    "printmd(\"<span style=\\\"font-size:larger;\\\">CONDITIONAL</span>\")\n",
    "printmd(colorize(tokenizer.decode(val_data.examples[i].input[:val_data.examples[i].input.index(tokenizer.sep_token_id)], skip_special_tokens=True),color=\"red\"))\n",
    "printmd(colorize(tokenizer.decode(val_data.examples[i].input[val_data.examples[i].input.index(tokenizer.sep_token_id):], skip_special_tokens=True),color=\"blue\"))\n",
    "printmd(colorize(\n",
    "    [a['text'] for a in val_data.problem_examples[val_data.examples[i].example_idx].answers]\n",
    "    ,color=\"green\"))\n",
    "answers, confidences = get_topk_answers_conditional(conditional_reader_model,val_data.examples[i])\n",
    "for i, (answer, confidence) in enumerate(zip(answers, confidences)):\n",
    "    if i==20:\n",
    "        break\n",
    "    print(f\"{i}. confidence:{confidence:.6f} length:{len(answer)} content:\\\"{answer}\\\".\")\n",
    "print(\"----------------------------------------------------------------------\")"
   ]
  },
  {
   "cell_type": "markdown",
   "metadata": {},
   "source": [
    "# Analysing model differences"
   ]
  },
  {
   "cell_type": "code",
   "execution_count": 15,
   "metadata": {},
   "outputs": [],
   "source": [
    "import json\n",
    "indep_preds = json.load(open(\"results_diff/squad1.1/bert_dev_results_indep.json\"))\n",
    "compound_preds = json.load(open(\"results_diff/squad1.1/bert_dev_results_compound.json\"))"
   ]
  },
  {
   "cell_type": "code",
   "execution_count": 16,
   "metadata": {},
   "outputs": [
    {
     "data": {
      "text/plain": [
       "1937"
      ]
     },
     "execution_count": 16,
     "metadata": {},
     "output_type": "execute_result"
    }
   ],
   "source": [
    "diff = { k : (indep_preds[k],compound_preds[k]) for k in compound_preds.keys() if indep_preds[k] != compound_preds[k]}\n",
    "len(diff)"
   ]
  },
  {
   "cell_type": "markdown",
   "metadata": {},
   "source": [
    "### Good example for surface form normalization\n",
    "'56bec38b3aeaaa14008c9398': ('Death Wish Coffee had a 30-second commercial aired free of charge courtesy of QuickBooks. Death Wish Coffee',\n",
    "  'Death Wish Coffee'),"
   ]
  },
  {
   "cell_type": "markdown",
   "metadata": {},
   "source": [
    "### Good example for compound loss improvement\n",
    "'56d709ef0d65d21400198306': ('Rivera having been a linebacker with the Chicago Bears in Super Bowl XX, and Kubiak replacing Elway',\n",
    "  'Rivera'),"
   ]
  },
  {
   "cell_type": "code",
   "execution_count": 19,
   "metadata": {},
   "outputs": [],
   "source": [
    "indep_lengths = list(map(len, list(indep_preds.values())))"
   ]
  },
  {
   "cell_type": "code",
   "execution_count": 20,
   "metadata": {},
   "outputs": [],
   "source": [
    "compound_lengths = list(map(len, list(compound_preds.values())))"
   ]
  },
  {
   "cell_type": "code",
   "execution_count": 21,
   "metadata": {},
   "outputs": [
    {
     "name": "stdout",
     "output_type": "stream",
     "text": [
      "Indep avg: 19.754399243140966\n",
      "Joint avg: 18.356385998107854\n"
     ]
    }
   ],
   "source": [
    "print(f\"Indep avg: {sum(indep_lengths)/len(indep_lengths)}\")\n",
    "print(f\"Joint avg: {sum(compound_lengths)/len(compound_lengths)}\")"
   ]
  },
  {
   "cell_type": "markdown",
   "metadata": {},
   "source": [
    "The joint predictions from compound model seem to be slighly shorter"
   ]
  },
  {
   "cell_type": "markdown",
   "metadata": {},
   "source": [
    "### Predicted answer length distribution"
   ]
  },
  {
   "cell_type": "code",
   "execution_count": 22,
   "metadata": {},
   "outputs": [
    {
     "data": {
      "image/png": "[encoded data removed]",
      "text/plain": [
       "<Figure size 576x432 with 1 Axes>"
      ]
     },
     "metadata": {
      "needs_background": "light"
     },
     "output_type": "display_data"
    }
   ],
   "source": [
    "import matplotlib.pyplot as plt\n",
    "\n",
    "values1 = indep_lengths\n",
    "values2= compound_lengths\n",
    "bins=100\n",
    "domain_range=(0,100)\n",
    "\n",
    "fig = plt.figure(figsize=(8,6))\n",
    "ax = fig.add_subplot(111) \n",
    "ax.hist(values1, alpha=0.5, bins=bins, range=domain_range, color= 'b', label='Independent')\n",
    "ax.hist(values2, alpha=0.5, bins=bins, range=domain_range, color= 'r', label='Compound')\n",
    "ax.legend(loc='upper right', prop={'size':14})\n",
    "plt.show()"
   ]
  },
  {
   "cell_type": "markdown",
   "metadata": {},
   "source": [
    "In the best prediction setting, the predictions seem to have similar lengths. Lets try to look at what happens, if we (artificially) make a model a little bit more uncertain."
   ]
  },
  {
   "cell_type": "markdown",
   "metadata": {},
   "source": [
    "# Comparing Top-K answer length distributions"
   ]
  },
  {
   "cell_type": "code",
   "execution_count": 17,
   "metadata": {},
   "outputs": [],
   "source": [
    "import json\n",
    "dataset = \".data/squad/dev-v1.1.json\"\n",
    "with open(dataset, encoding=\"utf-8\") as f:\n",
    "    data= json.load(f)['data']\n",
    "\n",
    "gt_average_lengths=[]\n",
    "for data_topic in data:\n",
    "    topic_title = data_topic[\"title\"]\n",
    "    for paragraph in data_topic[\"paragraphs\"]:\n",
    "        for question_and_answers in paragraph['qas']:\n",
    "            gt_ans_lens = [len(a[\"text\"]) for a in question_and_answers[\"answers\"]]\n",
    "            gt_average_lengths.append(sum(gt_ans_lens)/len(gt_ans_lens))\n",
    "            "
   ]
  },
  {
   "cell_type": "code",
   "execution_count": 18,
   "metadata": {},
   "outputs": [],
   "source": [
    "from tqdm import tqdm\n",
    "@torch.no_grad()\n",
    "def get_topK_lens_probs(model, topk_callback, K=100):\n",
    "    topK_lengths = []\n",
    "    topK_probs=[]\n",
    "    device = torch.device(\"cuda:0\")\n",
    "    model = model.to(device)\n",
    "    for idx,example in enumerate(tqdm(val_data.examples)):\n",
    "        answers, confidences = topk_callback(model,example, device=device,K=K)\n",
    "        a_lengths = list(map(len, answers))\n",
    "        topK_lengths.append(a_lengths)\n",
    "        topK_probs.append(confidences)\n",
    "    return topK_lengths, topK_probs"
   ]
  },
  {
   "cell_type": "code",
   "execution_count": 19,
   "metadata": {},
   "outputs": [
    {
     "name": "stderr",
     "output_type": "stream",
     "text": [
      "100%|██████████| 10833/10833 [1:03:04<00:00,  2.86it/s]\n"
     ]
    }
   ],
   "source": [
    "cond_topK_lengths,cond_topK_probs= get_topK_lens_probs(conditional_reader_model, get_topk_answers_conditional)"
   ]
  },
  {
   "cell_type": "code",
   "execution_count": 20,
   "metadata": {},
   "outputs": [
    {
     "name": "stderr",
     "output_type": "stream",
     "text": [
      "100%|██████████| 10833/10833 [05:40<00:00, 31.84it/s]\n"
     ]
    }
   ],
   "source": [
    "indep_topK_lengths,indep_topK_probs= get_topK_lens_probs(indep_reader_model, get_topk_answers)"
   ]
  },
  {
   "cell_type": "code",
   "execution_count": 22,
   "metadata": {},
   "outputs": [
    {
     "name": "stderr",
     "output_type": "stream",
     "text": [
      "100%|██████████| 10833/10833 [05:40<00:00, 31.83it/s]\n"
     ]
    }
   ],
   "source": [
    "joint_topK_lengths,joint_topK_probs= get_topK_lens_probs(joint_reader_model, get_topk_answers_joint)"
   ]
  },
  {
   "cell_type": "code",
   "execution_count": 23,
   "metadata": {},
   "outputs": [
    {
     "name": "stderr",
     "output_type": "stream",
     "text": [
      "100%|██████████| 10833/10833 [05:40<00:00, 31.84it/s]\n"
     ]
    }
   ],
   "source": [
    "compound_topK_lengths,compound_topK_probs= get_topK_lens_probs(compound_reader_model, get_topk_answers_joint)"
   ]
  },
  {
   "cell_type": "code",
   "execution_count": 24,
   "metadata": {},
   "outputs": [
    {
     "data": {
      "image/png": "[encoded data removed]",
      "text/plain": [
       "<Figure size 576x432 with 1 Axes>"
      ]
     },
     "metadata": {
      "needs_background": "light"
     },
     "output_type": "display_data"
    }
   ],
   "source": [
    "import matplotlib.pyplot as plt\n",
    "\n",
    "K=20\n",
    "indep_topK_averagelengths = [sum(x[:K])/len(x[:K]) for x in indep_topK_lengths]\n",
    "joint_topK_averagelengths = [sum(x[:K])/len(x[:K]) for x in joint_topK_lengths]\n",
    "compound_topK_averagelengths = [sum(x[:K])/len(x[:K]) for x in compound_topK_lengths]\n",
    "conditional_topK_averagelengths = [sum(x[:K])/len(x[:K]) for x in cond_topK_lengths]\n",
    "\n",
    "\n",
    "bins=107\n",
    "_range=(0,100)\n",
    "\n",
    "fig = plt.figure(figsize=(8,6))\n",
    "ax = fig.add_subplot(111) \n",
    "ax.hist(indep_topK_averagelengths, alpha=0.5, bins=bins, range=_range, color= 'b', label='Independent')\n",
    "ax.hist(conditional_topK_averagelengths, alpha=0.5, bins=bins, range=_range, color= 'm', label='Conditional')\n",
    "ax.hist(joint_topK_averagelengths, alpha=0.5, bins=bins, range=_range, color= 'y', label='Joint')\n",
    "ax.hist(compound_topK_averagelengths, alpha=0.5, bins=bins, range=_range, color= 'r', label='Compound')\n",
    "ax.hist(gt_average_lengths, alpha=0.5, bins=bins, range=_range, color= 'g', label='Ground Truth')\n",
    "ax.legend(loc='upper right', prop={'size':14})\n",
    "plt.show()"
   ]
  },
  {
   "cell_type": "code",
   "execution_count": 25,
   "metadata": {},
   "outputs": [
    {
     "data": {
      "image/png": "[encoded data removed]",
      "text/plain": [
       "<Figure size 576x432 with 1 Axes>"
      ]
     },
     "metadata": {
      "needs_background": "light"
     },
     "output_type": "display_data"
    }
   ],
   "source": [
    "# Hatched version\n",
    "bins = 107\n",
    "_range=(0,100)\n",
    "\n",
    "fig = plt.figure(figsize=(8,6))\n",
    "ax = fig.add_subplot(111) \n",
    "ax.hist(indep_topK_averagelengths, alpha=0.5, bins=bins, range=_range, color= 'b', hatch='/',label='Independent')\n",
    "ax.hist(conditional_topK_averagelengths, alpha=0.5, bins=bins, range=_range, color= 'm', hatch='\\\\',label='Conditional')\n",
    "ax.hist(joint_topK_averagelengths, alpha=0.5, bins=bins, range=_range, color= 'y', hatch='|',label='Joint')\n",
    "ax.hist(compound_topK_averagelengths, alpha=0.5, bins=bins, range=_range, color= 'r', hatch='-',label='Compound')\n",
    "ax.hist(gt_average_lengths, alpha=0.5, bins=bins, range=_range, color= 'g', hatch='.',label='Ground Truth')\n",
    "ax.legend(loc='upper right', prop={'size':14})\n",
    "plt.show()"
   ]
  },
  {
   "cell_type": "markdown",
   "metadata": {},
   "source": [
    "We have took the lengths of top-K answer spans, instead of just top-1 to capture the effect of uncertain prediction -- the model is \"forced to be uncertain\" a about the n-bth best prediction (n>1). We see independent model in this scenarions picks longer spans than the joint objectives."
   ]
  },
  {
   "cell_type": "code",
   "execution_count": 26,
   "metadata": {},
   "outputs": [],
   "source": [
    "import itertools\n",
    "from collections import OrderedDict\n",
    "from functools import partial\n",
    "\n",
    "import numpy as np\n",
    "import matplotlib.pyplot as plt\n",
    "import matplotlib.ticker as mticker\n",
    "from cycler import cycler\n",
    "from six.moves import zip\n",
    "\n",
    "\n",
    "def filled_hist(ax, edges, values, bottoms=None, orientation='v',\n",
    "                **kwargs):\n",
    "    \"\"\"\n",
    "    Draw a histogram as a stepped patch.\n",
    "\n",
    "    Extra kwargs are passed through to `fill_between`\n",
    "\n",
    "    Parameters\n",
    "    ----------\n",
    "    ax : Axes\n",
    "        The axes to plot to\n",
    "\n",
    "    edges : array\n",
    "        A length n+1 array giving the left edges of each bin and the\n",
    "        right edge of the last bin.\n",
    "\n",
    "    values : array\n",
    "        A length n array of bin counts or values\n",
    "\n",
    "    bottoms : scalar or array, optional\n",
    "        A length n array of the bottom of the bars.  If None, zero is used.\n",
    "\n",
    "    orientation : {'v', 'h'}\n",
    "       Orientation of the histogram.  'v' (default) has\n",
    "       the bars increasing in the positive y-direction.\n",
    "\n",
    "    Returns\n",
    "    -------\n",
    "    ret : PolyCollection\n",
    "        Artist added to the Axes\n",
    "    \"\"\"\n",
    "    print(orientation)\n",
    "    if orientation not in set('hv'):\n",
    "        raise ValueError(\"orientation must be in {{'h', 'v'}} \"\n",
    "                         \"not {o}\".format(o=orientation))\n",
    "\n",
    "    kwargs.setdefault('step', 'post')\n",
    "    edges = np.asarray(edges)\n",
    "    values = np.asarray(values)\n",
    "    if len(edges) - 1 != len(values):\n",
    "        raise ValueError('Must provide one more bin edge than value not: '\n",
    "                         'len(edges): {lb} len(values): {lv}'.format(\n",
    "                             lb=len(edges), lv=len(values)))\n",
    "\n",
    "    if bottoms is None:\n",
    "        bottoms = np.zeros_like(values)\n",
    "    if np.isscalar(bottoms):\n",
    "        bottoms = np.ones_like(values) * bottoms\n",
    "\n",
    "    values = np.r_[values, values[-1]]\n",
    "    bottoms = np.r_[bottoms, bottoms[-1]]\n",
    "    if orientation == 'h':\n",
    "        return ax.fill_betweenx(edges, values, bottoms,\n",
    "                                **kwargs)\n",
    "    elif orientation == 'v':\n",
    "        return ax.fill_between(edges, values, bottoms,\n",
    "                               **kwargs)\n",
    "    else:\n",
    "        raise AssertionError(\"you should never be here\")\n",
    "\n",
    "\n",
    "def stack_hist(ax, stacked_data, sty_cycle, bottoms=None,\n",
    "               hist_func=None, labels=None,\n",
    "               plot_func=None, plot_kwargs=None):\n",
    "    \"\"\"\n",
    "    ax : axes.Axes\n",
    "        The axes to add artists too\n",
    "\n",
    "    stacked_data : array or Mapping\n",
    "        A (N, M) shaped array.  The first dimension will be iterated over to\n",
    "        compute histograms row-wise\n",
    "\n",
    "    sty_cycle : Cycler or operable of dict\n",
    "        Style to apply to each set\n",
    "\n",
    "    bottoms : array, optional\n",
    "        The initial positions of the bottoms, defaults to 0\n",
    "\n",
    "    hist_func : callable, optional\n",
    "        Must have signature `bin_vals, bin_edges = f(data)`.\n",
    "        `bin_edges` expected to be one longer than `bin_vals`\n",
    "\n",
    "    labels : list of str, optional\n",
    "        The label for each set.\n",
    "\n",
    "        If not given and stacked data is an array defaults to 'default set {n}'\n",
    "\n",
    "        If stacked_data is a mapping, and labels is None, default to the keys\n",
    "        (which may come out in a random order).\n",
    "\n",
    "        If stacked_data is a mapping and labels is given then only\n",
    "        the columns listed by be plotted.\n",
    "\n",
    "    plot_func : callable, optional\n",
    "        Function to call to draw the histogram must have signature:\n",
    "\n",
    "          ret = plot_func(ax, edges, top, bottoms=bottoms,\n",
    "                          label=label, **kwargs)\n",
    "\n",
    "    plot_kwargs : dict, optional\n",
    "        Any extra kwargs to pass through to the plotting function.  This\n",
    "        will be the same for all calls to the plotting function and will\n",
    "        over-ride the values in cycle.\n",
    "\n",
    "    Returns\n",
    "    -------\n",
    "    arts : dict\n",
    "        Dictionary of artists keyed on their labels\n",
    "    \"\"\"\n",
    "    # deal with default binning function\n",
    "    if hist_func is None:\n",
    "        hist_func = np.histogram\n",
    "\n",
    "    # deal with default plotting function\n",
    "    if plot_func is None:\n",
    "        plot_func = filled_hist\n",
    "\n",
    "    # deal with default\n",
    "    if plot_kwargs is None:\n",
    "        plot_kwargs = {}\n",
    "    print(plot_kwargs)\n",
    "    try:\n",
    "        l_keys = stacked_data.keys()\n",
    "        label_data = True\n",
    "        if labels is None:\n",
    "            labels = l_keys\n",
    "\n",
    "    except AttributeError:\n",
    "        label_data = False\n",
    "        if labels is None:\n",
    "            labels = itertools.repeat(None)\n",
    "\n",
    "    if label_data:\n",
    "        loop_iter = enumerate((stacked_data[lab], lab, s) for lab, s in\n",
    "                              zip(labels, sty_cycle))\n",
    "    else:\n",
    "        loop_iter = enumerate(zip(stacked_data, labels, sty_cycle))\n",
    "\n",
    "    arts = {}\n",
    "    for j, (data, label, sty) in loop_iter:\n",
    "        if label is None:\n",
    "            label = 'dflt set {n}'.format(n=j)\n",
    "        label = sty.pop('label', label)\n",
    "        vals, edges = hist_func(data)\n",
    "        if bottoms is None:\n",
    "            bottoms = np.zeros_like(vals)\n",
    "        top = bottoms + vals\n",
    "        print(sty)\n",
    "        sty.update(plot_kwargs)\n",
    "        print(sty)\n",
    "        ret = plot_func(ax, edges, top, bottoms=bottoms,\n",
    "                        label=label, **sty)\n",
    "        bottoms = top\n",
    "        arts[label] = ret\n",
    "    ax.legend(fontsize=10)\n",
    "    return arts\n",
    "\n"
   ]
  },
  {
   "cell_type": "code",
   "execution_count": 27,
   "metadata": {},
   "outputs": [
    {
     "name": "stdout",
     "output_type": "stream",
     "text": [
      "{}\n",
      "{'facecolor': 'b', 'hatch': '/'}\n",
      "{'facecolor': 'b', 'hatch': '/'}\n",
      "v\n",
      "{'facecolor': 'm', 'hatch': '\\\\'}\n",
      "{'facecolor': 'm', 'hatch': '\\\\'}\n",
      "v\n",
      "{'facecolor': 'y', 'hatch': '|'}\n",
      "{'facecolor': 'y', 'hatch': '|'}\n",
      "v\n",
      "{'facecolor': 'r', 'hatch': '-'}\n",
      "{'facecolor': 'r', 'hatch': '-'}\n",
      "v\n",
      "{'facecolor': 'g', 'hatch': '.'}\n",
      "{'facecolor': 'g', 'hatch': '.'}\n",
      "v\n"
     ]
    },
    {
     "data": {
      "image/png": "[encoded data removed]",
      "text/plain": [
       "<Figure size 576x432 with 1 Axes>"
      ]
     },
     "metadata": {
      "needs_background": "light"
     },
     "output_type": "display_data"
    }
   ],
   "source": [
    "# set up histogram function to fixed bins\n",
    "edges = np.linspace(0, 100, 107, endpoint=True)\n",
    "hist_func = partial(np.histogram, bins=edges)\n",
    "\n",
    "# set up style cycles\n",
    "color_cycle = cycler(facecolor=['b','m','y','r','g']) #plt.rcParams['axes.prop_cycle'][:3]\n",
    "label_cycle = cycler(label=['Independent', 'Conditional', 'Joint','Compound','Ground Truth' ])\n",
    "hatch_cycle = cycler(hatch=['/','\\\\','|', '-', '.' ])\n",
    "\n",
    "\n",
    " \n",
    "stack_data = [indep_topK_averagelengths, conditional_topK_averagelengths, joint_topK_averagelengths,compound_topK_averagelengths, gt_average_lengths]\n",
    "dict_data = OrderedDict(zip((c['label'] for c in label_cycle), stack_data))\n",
    "\n",
    "fig = plt.figure(figsize=(8,6))\n",
    "ax = fig.add_subplot(111) \n",
    "arts = stack_hist(ax, stack_data, color_cycle + label_cycle + hatch_cycle,\n",
    "                  hist_func=hist_func)"
   ]
  },
  {
   "cell_type": "markdown",
   "metadata": {},
   "source": [
    "## Lets try to compare uncertain predictions!\n"
   ]
  },
  {
   "cell_type": "code",
   "execution_count": 39,
   "metadata": {},
   "outputs": [
    {
     "data": {
      "text/plain": [
       "(10833, 10833, 10833, 10833, 10833)"
      ]
     },
     "execution_count": 39,
     "metadata": {},
     "output_type": "execute_result"
    }
   ],
   "source": [
    "len(val_data),len(indep_topK_lengths),len(joint_topK_lengths),len(compound_topK_lengths), len(indep_topK_probs)"
   ]
  },
  {
   "cell_type": "markdown",
   "metadata": {},
   "source": [
    "We use simple threshold on most probable answer. If the  top-answer probability is lesser than threshold, we assume the answer is \"uncertain\" and include it in the histogram."
   ]
  },
  {
   "cell_type": "code",
   "execution_count": 40,
   "metadata": {},
   "outputs": [
    {
     "data": {
      "text/plain": [
       "(373, 248, 286, 357)"
      ]
     },
     "execution_count": 40,
     "metadata": {},
     "output_type": "execute_result"
    }
   ],
   "source": [
    "filtered_indep_topK_lens = [lens[0] for lens, probs in zip(indep_topK_lengths,indep_topK_probs) if probs[0]<0.2]\n",
    "filtered_joint_topK_lens = [lens[0] for lens, probs in zip(joint_topK_lengths,joint_topK_probs) if probs[0]<0.2]\n",
    "filtered_compound_topK_lens = [lens[0] for lens, probs in zip(compound_topK_lengths,compound_topK_probs) if probs[0]<0.2]\n",
    "len(filtered_indep_topK_lens),len(filtered_joint_topK_lens),len(filtered_compound_topK_lens),len(filtered_conditional_topK_lens)"
   ]
  },
  {
   "cell_type": "code",
   "execution_count": 41,
   "metadata": {},
   "outputs": [
    {
     "data": {
      "image/png": "[encoded data removed]",
      "text/plain": [
       "<Figure size 576x432 with 1 Axes>"
      ]
     },
     "metadata": {
      "needs_background": "light"
     },
     "output_type": "display_data"
    }
   ],
   "source": [
    "bins = 20\n",
    "_range=(0,100)\n",
    "\n",
    "fig = plt.figure(figsize=(8,6))\n",
    "ax = fig.add_subplot(111) \n",
    "ax.hist(filtered_indep_topK_lens, alpha=0.5, bins=bins, range=_range, color= 'b', hatch='/',label='Independent')\n",
    "ax.hist(filtered_joint_topK_lens, alpha=0.5, bins=bins, range=_range, color= 'y', hatch='\\\\',label='Joint')\n",
    "ax.hist(filtered_compound_topK_lens, alpha=0.5, bins=bins, range=_range, color= 'r', hatch='-',label='Compound')\n",
    "#ax.hist(gt_average_lengths, alpha=0.5, bins=bins, range=_range, color= 'g', hatch='|',label='Ground Truth')\n",
    "ax.legend(loc='upper right', prop={'size':14})\n",
    "plt.show()"
   ]
  },
  {
   "cell_type": "markdown",
   "metadata": {},
   "source": [
    "The graph again shows the independent objective \"lags\" behind other objectives in the (top) prediction length"
   ]
  }
 ],
 "metadata": {
  "kernelspec": {
   "display_name": "jointqa",
   "language": "python",
   "name": "jointqa"
  },
  "language_info": {
   "codemirror_mode": {
    "name": "ipython",
    "version": 3
   },
   "file_extension": ".py",
   "mimetype": "text/x-python",
   "name": "python",
   "nbconvert_exporter": "python",
   "pygments_lexer": "ipython3",
   "version": "3.6.12"
  }
 },
 "nbformat": 4,
 "nbformat_minor": 4
}